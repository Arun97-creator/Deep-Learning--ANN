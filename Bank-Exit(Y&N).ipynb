{
 "cells": [
  {
   "cell_type": "code",
   "execution_count": 2,
   "metadata": {},
   "outputs": [],
   "source": [
    "# Importing the libraries\n",
    "import numpy as np\n",
    "import matplotlib.pyplot as plt\n",
    "import pandas as pd"
   ]
  },
  {
   "cell_type": "code",
   "execution_count": 1,
   "metadata": {},
   "outputs": [
    {
     "name": "stdout",
     "output_type": "stream",
     "text": [
      "Requirement already satisfied: pandas in c:\\users\\hp\\anaconda3\\envs\\vks_test\\lib\\site-packages (1.1.3)\n",
      "Requirement already satisfied: pytz>=2017.2 in c:\\users\\hp\\anaconda3\\envs\\vks_test\\lib\\site-packages (from pandas) (2020.1)\n",
      "Requirement already satisfied: numpy>=1.15.4 in c:\\users\\hp\\anaconda3\\envs\\vks_test\\lib\\site-packages (from pandas) (1.19.1)\n",
      "Requirement already satisfied: python-dateutil>=2.7.3 in c:\\users\\hp\\anaconda3\\envs\\vks_test\\lib\\site-packages (from pandas) (2.8.1)\n",
      "Requirement already satisfied: six>=1.5 in c:\\users\\hp\\anaconda3\\envs\\vks_test\\lib\\site-packages (from python-dateutil>=2.7.3->pandas) (1.15.0)\n"
     ]
    }
   ],
   "source": [
    "!pip install pandas"
   ]
  },
  {
   "cell_type": "code",
   "execution_count": 3,
   "metadata": {},
   "outputs": [
    {
     "data": {
      "text/plain": [
       "'C:\\\\Users\\\\HP'"
      ]
     },
     "execution_count": 3,
     "metadata": {},
     "output_type": "execute_result"
    }
   ],
   "source": [
    "pwd"
   ]
  },
  {
   "cell_type": "code",
   "execution_count": 5,
   "metadata": {},
   "outputs": [
    {
     "name": "stdout",
     "output_type": "stream",
     "text": [
      "C:\\Users\\HP\\Desktop\\Data Science\\Project\n"
     ]
    }
   ],
   "source": [
    "cd/Users/HP/Desktop/Data Science/Project"
   ]
  },
  {
   "cell_type": "code",
   "execution_count": 7,
   "metadata": {},
   "outputs": [
    {
     "data": {
      "text/html": [
       "<div>\n",
       "<style scoped>\n",
       "    .dataframe tbody tr th:only-of-type {\n",
       "        vertical-align: middle;\n",
       "    }\n",
       "\n",
       "    .dataframe tbody tr th {\n",
       "        vertical-align: top;\n",
       "    }\n",
       "\n",
       "    .dataframe thead th {\n",
       "        text-align: right;\n",
       "    }\n",
       "</style>\n",
       "<table border=\"1\" class=\"dataframe\">\n",
       "  <thead>\n",
       "    <tr style=\"text-align: right;\">\n",
       "      <th></th>\n",
       "      <th>RowNumber</th>\n",
       "      <th>CustomerId</th>\n",
       "      <th>Surname</th>\n",
       "      <th>CreditScore</th>\n",
       "      <th>Geography</th>\n",
       "      <th>Gender</th>\n",
       "      <th>Age</th>\n",
       "      <th>Tenure</th>\n",
       "      <th>Balance</th>\n",
       "      <th>NumOfProducts</th>\n",
       "      <th>HasCrCard</th>\n",
       "      <th>IsActiveMember</th>\n",
       "      <th>EstimatedSalary</th>\n",
       "      <th>Exited</th>\n",
       "    </tr>\n",
       "  </thead>\n",
       "  <tbody>\n",
       "    <tr>\n",
       "      <th>0</th>\n",
       "      <td>1</td>\n",
       "      <td>15634602</td>\n",
       "      <td>Hargrave</td>\n",
       "      <td>619</td>\n",
       "      <td>France</td>\n",
       "      <td>Female</td>\n",
       "      <td>42</td>\n",
       "      <td>2</td>\n",
       "      <td>0.00</td>\n",
       "      <td>1</td>\n",
       "      <td>1</td>\n",
       "      <td>1</td>\n",
       "      <td>101348.88</td>\n",
       "      <td>1</td>\n",
       "    </tr>\n",
       "    <tr>\n",
       "      <th>1</th>\n",
       "      <td>2</td>\n",
       "      <td>15647311</td>\n",
       "      <td>Hill</td>\n",
       "      <td>608</td>\n",
       "      <td>Spain</td>\n",
       "      <td>Female</td>\n",
       "      <td>41</td>\n",
       "      <td>1</td>\n",
       "      <td>83807.86</td>\n",
       "      <td>1</td>\n",
       "      <td>0</td>\n",
       "      <td>1</td>\n",
       "      <td>112542.58</td>\n",
       "      <td>0</td>\n",
       "    </tr>\n",
       "    <tr>\n",
       "      <th>2</th>\n",
       "      <td>3</td>\n",
       "      <td>15619304</td>\n",
       "      <td>Onio</td>\n",
       "      <td>502</td>\n",
       "      <td>France</td>\n",
       "      <td>Female</td>\n",
       "      <td>42</td>\n",
       "      <td>8</td>\n",
       "      <td>159660.80</td>\n",
       "      <td>3</td>\n",
       "      <td>1</td>\n",
       "      <td>0</td>\n",
       "      <td>113931.57</td>\n",
       "      <td>1</td>\n",
       "    </tr>\n",
       "    <tr>\n",
       "      <th>3</th>\n",
       "      <td>4</td>\n",
       "      <td>15701354</td>\n",
       "      <td>Boni</td>\n",
       "      <td>699</td>\n",
       "      <td>France</td>\n",
       "      <td>Female</td>\n",
       "      <td>39</td>\n",
       "      <td>1</td>\n",
       "      <td>0.00</td>\n",
       "      <td>2</td>\n",
       "      <td>0</td>\n",
       "      <td>0</td>\n",
       "      <td>93826.63</td>\n",
       "      <td>0</td>\n",
       "    </tr>\n",
       "    <tr>\n",
       "      <th>4</th>\n",
       "      <td>5</td>\n",
       "      <td>15737888</td>\n",
       "      <td>Mitchell</td>\n",
       "      <td>850</td>\n",
       "      <td>Spain</td>\n",
       "      <td>Female</td>\n",
       "      <td>43</td>\n",
       "      <td>2</td>\n",
       "      <td>125510.82</td>\n",
       "      <td>1</td>\n",
       "      <td>1</td>\n",
       "      <td>1</td>\n",
       "      <td>79084.10</td>\n",
       "      <td>0</td>\n",
       "    </tr>\n",
       "    <tr>\n",
       "      <th>...</th>\n",
       "      <td>...</td>\n",
       "      <td>...</td>\n",
       "      <td>...</td>\n",
       "      <td>...</td>\n",
       "      <td>...</td>\n",
       "      <td>...</td>\n",
       "      <td>...</td>\n",
       "      <td>...</td>\n",
       "      <td>...</td>\n",
       "      <td>...</td>\n",
       "      <td>...</td>\n",
       "      <td>...</td>\n",
       "      <td>...</td>\n",
       "      <td>...</td>\n",
       "    </tr>\n",
       "    <tr>\n",
       "      <th>9995</th>\n",
       "      <td>9996</td>\n",
       "      <td>15606229</td>\n",
       "      <td>Obijiaku</td>\n",
       "      <td>771</td>\n",
       "      <td>France</td>\n",
       "      <td>Male</td>\n",
       "      <td>39</td>\n",
       "      <td>5</td>\n",
       "      <td>0.00</td>\n",
       "      <td>2</td>\n",
       "      <td>1</td>\n",
       "      <td>0</td>\n",
       "      <td>96270.64</td>\n",
       "      <td>0</td>\n",
       "    </tr>\n",
       "    <tr>\n",
       "      <th>9996</th>\n",
       "      <td>9997</td>\n",
       "      <td>15569892</td>\n",
       "      <td>Johnstone</td>\n",
       "      <td>516</td>\n",
       "      <td>France</td>\n",
       "      <td>Male</td>\n",
       "      <td>35</td>\n",
       "      <td>10</td>\n",
       "      <td>57369.61</td>\n",
       "      <td>1</td>\n",
       "      <td>1</td>\n",
       "      <td>1</td>\n",
       "      <td>101699.77</td>\n",
       "      <td>0</td>\n",
       "    </tr>\n",
       "    <tr>\n",
       "      <th>9997</th>\n",
       "      <td>9998</td>\n",
       "      <td>15584532</td>\n",
       "      <td>Liu</td>\n",
       "      <td>709</td>\n",
       "      <td>France</td>\n",
       "      <td>Female</td>\n",
       "      <td>36</td>\n",
       "      <td>7</td>\n",
       "      <td>0.00</td>\n",
       "      <td>1</td>\n",
       "      <td>0</td>\n",
       "      <td>1</td>\n",
       "      <td>42085.58</td>\n",
       "      <td>1</td>\n",
       "    </tr>\n",
       "    <tr>\n",
       "      <th>9998</th>\n",
       "      <td>9999</td>\n",
       "      <td>15682355</td>\n",
       "      <td>Sabbatini</td>\n",
       "      <td>772</td>\n",
       "      <td>Germany</td>\n",
       "      <td>Male</td>\n",
       "      <td>42</td>\n",
       "      <td>3</td>\n",
       "      <td>75075.31</td>\n",
       "      <td>2</td>\n",
       "      <td>1</td>\n",
       "      <td>0</td>\n",
       "      <td>92888.52</td>\n",
       "      <td>1</td>\n",
       "    </tr>\n",
       "    <tr>\n",
       "      <th>9999</th>\n",
       "      <td>10000</td>\n",
       "      <td>15628319</td>\n",
       "      <td>Walker</td>\n",
       "      <td>792</td>\n",
       "      <td>France</td>\n",
       "      <td>Female</td>\n",
       "      <td>28</td>\n",
       "      <td>4</td>\n",
       "      <td>130142.79</td>\n",
       "      <td>1</td>\n",
       "      <td>1</td>\n",
       "      <td>0</td>\n",
       "      <td>38190.78</td>\n",
       "      <td>0</td>\n",
       "    </tr>\n",
       "  </tbody>\n",
       "</table>\n",
       "<p>10000 rows × 14 columns</p>\n",
       "</div>"
      ],
      "text/plain": [
       "      RowNumber  CustomerId    Surname  CreditScore Geography  Gender  Age  \\\n",
       "0             1    15634602   Hargrave          619    France  Female   42   \n",
       "1             2    15647311       Hill          608     Spain  Female   41   \n",
       "2             3    15619304       Onio          502    France  Female   42   \n",
       "3             4    15701354       Boni          699    France  Female   39   \n",
       "4             5    15737888   Mitchell          850     Spain  Female   43   \n",
       "...         ...         ...        ...          ...       ...     ...  ...   \n",
       "9995       9996    15606229   Obijiaku          771    France    Male   39   \n",
       "9996       9997    15569892  Johnstone          516    France    Male   35   \n",
       "9997       9998    15584532        Liu          709    France  Female   36   \n",
       "9998       9999    15682355  Sabbatini          772   Germany    Male   42   \n",
       "9999      10000    15628319     Walker          792    France  Female   28   \n",
       "\n",
       "      Tenure    Balance  NumOfProducts  HasCrCard  IsActiveMember  \\\n",
       "0          2       0.00              1          1               1   \n",
       "1          1   83807.86              1          0               1   \n",
       "2          8  159660.80              3          1               0   \n",
       "3          1       0.00              2          0               0   \n",
       "4          2  125510.82              1          1               1   \n",
       "...      ...        ...            ...        ...             ...   \n",
       "9995       5       0.00              2          1               0   \n",
       "9996      10   57369.61              1          1               1   \n",
       "9997       7       0.00              1          0               1   \n",
       "9998       3   75075.31              2          1               0   \n",
       "9999       4  130142.79              1          1               0   \n",
       "\n",
       "      EstimatedSalary  Exited  \n",
       "0           101348.88       1  \n",
       "1           112542.58       0  \n",
       "2           113931.57       1  \n",
       "3            93826.63       0  \n",
       "4            79084.10       0  \n",
       "...               ...     ...  \n",
       "9995         96270.64       0  \n",
       "9996        101699.77       0  \n",
       "9997         42085.58       1  \n",
       "9998         92888.52       1  \n",
       "9999         38190.78       0  \n",
       "\n",
       "[10000 rows x 14 columns]"
      ]
     },
     "execution_count": 7,
     "metadata": {},
     "output_type": "execute_result"
    }
   ],
   "source": [
    "# Importing the dataset\n",
    "dataset = pd.read_csv('bank.csv')\n",
    "X = dataset.iloc[:, 3:13]\n",
    "y = dataset.iloc[:, 13]\n",
    "dataset"
   ]
  },
  {
   "cell_type": "code",
   "execution_count": 8,
   "metadata": {},
   "outputs": [],
   "source": [
    "#Create dummy variables\n",
    "geography=pd.get_dummies(X[\"Geography\"],drop_first=True)\n",
    "gender=pd.get_dummies(X['Gender'],drop_first=True)"
   ]
  },
  {
   "cell_type": "code",
   "execution_count": 10,
   "metadata": {},
   "outputs": [
    {
     "data": {
      "text/html": [
       "<div>\n",
       "<style scoped>\n",
       "    .dataframe tbody tr th:only-of-type {\n",
       "        vertical-align: middle;\n",
       "    }\n",
       "\n",
       "    .dataframe tbody tr th {\n",
       "        vertical-align: top;\n",
       "    }\n",
       "\n",
       "    .dataframe thead th {\n",
       "        text-align: right;\n",
       "    }\n",
       "</style>\n",
       "<table border=\"1\" class=\"dataframe\">\n",
       "  <thead>\n",
       "    <tr style=\"text-align: right;\">\n",
       "      <th></th>\n",
       "      <th>Germany</th>\n",
       "      <th>Spain</th>\n",
       "    </tr>\n",
       "  </thead>\n",
       "  <tbody>\n",
       "    <tr>\n",
       "      <th>0</th>\n",
       "      <td>0</td>\n",
       "      <td>0</td>\n",
       "    </tr>\n",
       "    <tr>\n",
       "      <th>1</th>\n",
       "      <td>0</td>\n",
       "      <td>1</td>\n",
       "    </tr>\n",
       "    <tr>\n",
       "      <th>2</th>\n",
       "      <td>0</td>\n",
       "      <td>0</td>\n",
       "    </tr>\n",
       "    <tr>\n",
       "      <th>3</th>\n",
       "      <td>0</td>\n",
       "      <td>0</td>\n",
       "    </tr>\n",
       "    <tr>\n",
       "      <th>4</th>\n",
       "      <td>0</td>\n",
       "      <td>1</td>\n",
       "    </tr>\n",
       "    <tr>\n",
       "      <th>...</th>\n",
       "      <td>...</td>\n",
       "      <td>...</td>\n",
       "    </tr>\n",
       "    <tr>\n",
       "      <th>9995</th>\n",
       "      <td>0</td>\n",
       "      <td>0</td>\n",
       "    </tr>\n",
       "    <tr>\n",
       "      <th>9996</th>\n",
       "      <td>0</td>\n",
       "      <td>0</td>\n",
       "    </tr>\n",
       "    <tr>\n",
       "      <th>9997</th>\n",
       "      <td>0</td>\n",
       "      <td>0</td>\n",
       "    </tr>\n",
       "    <tr>\n",
       "      <th>9998</th>\n",
       "      <td>1</td>\n",
       "      <td>0</td>\n",
       "    </tr>\n",
       "    <tr>\n",
       "      <th>9999</th>\n",
       "      <td>0</td>\n",
       "      <td>0</td>\n",
       "    </tr>\n",
       "  </tbody>\n",
       "</table>\n",
       "<p>10000 rows × 2 columns</p>\n",
       "</div>"
      ],
      "text/plain": [
       "      Germany  Spain\n",
       "0           0      0\n",
       "1           0      1\n",
       "2           0      0\n",
       "3           0      0\n",
       "4           0      1\n",
       "...       ...    ...\n",
       "9995        0      0\n",
       "9996        0      0\n",
       "9997        0      0\n",
       "9998        1      0\n",
       "9999        0      0\n",
       "\n",
       "[10000 rows x 2 columns]"
      ]
     },
     "execution_count": 10,
     "metadata": {},
     "output_type": "execute_result"
    }
   ],
   "source": [
    "geography"
   ]
  },
  {
   "cell_type": "code",
   "execution_count": 11,
   "metadata": {},
   "outputs": [],
   "source": [
    "X=pd.concat([X,geography,gender],axis=1)"
   ]
  },
  {
   "cell_type": "code",
   "execution_count": 12,
   "metadata": {},
   "outputs": [],
   "source": [
    "## Drop Unnecessary columns\n",
    "X=X.drop(['Geography','Gender'],axis=1)\n"
   ]
  },
  {
   "cell_type": "code",
   "execution_count": 13,
   "metadata": {},
   "outputs": [],
   "source": [
    "# Splitting the dataset into the Training set and Test set\n",
    "from sklearn.model_selection import train_test_split\n",
    "X_train, X_test, y_train, y_test = train_test_split(X, y, test_size = 0.2, random_state = 0)"
   ]
  },
  {
   "cell_type": "code",
   "execution_count": 14,
   "metadata": {},
   "outputs": [],
   "source": [
    "# Feature Scaling\n",
    "from sklearn.preprocessing import StandardScaler\n",
    "sc = StandardScaler()\n",
    "X_train = sc.fit_transform(X_train)\n",
    "X_test = sc.transform(X_test)"
   ]
  },
  {
   "cell_type": "code",
   "execution_count": 15,
   "metadata": {},
   "outputs": [
    {
     "name": "stderr",
     "output_type": "stream",
     "text": [
      "Using TensorFlow backend.\n",
      "c:\\users\\hp\\anaconda3\\envs\\vks_test\\lib\\site-packages\\tensorflow\\python\\framework\\dtypes.py:516: FutureWarning: Passing (type, 1) or '1type' as a synonym of type is deprecated; in a future version of numpy, it will be understood as (type, (1,)) / '(1,)type'.\n",
      "  _np_qint8 = np.dtype([(\"qint8\", np.int8, 1)])\n",
      "c:\\users\\hp\\anaconda3\\envs\\vks_test\\lib\\site-packages\\tensorflow\\python\\framework\\dtypes.py:517: FutureWarning: Passing (type, 1) or '1type' as a synonym of type is deprecated; in a future version of numpy, it will be understood as (type, (1,)) / '(1,)type'.\n",
      "  _np_quint8 = np.dtype([(\"quint8\", np.uint8, 1)])\n",
      "c:\\users\\hp\\anaconda3\\envs\\vks_test\\lib\\site-packages\\tensorflow\\python\\framework\\dtypes.py:518: FutureWarning: Passing (type, 1) or '1type' as a synonym of type is deprecated; in a future version of numpy, it will be understood as (type, (1,)) / '(1,)type'.\n",
      "  _np_qint16 = np.dtype([(\"qint16\", np.int16, 1)])\n",
      "c:\\users\\hp\\anaconda3\\envs\\vks_test\\lib\\site-packages\\tensorflow\\python\\framework\\dtypes.py:519: FutureWarning: Passing (type, 1) or '1type' as a synonym of type is deprecated; in a future version of numpy, it will be understood as (type, (1,)) / '(1,)type'.\n",
      "  _np_quint16 = np.dtype([(\"quint16\", np.uint16, 1)])\n",
      "c:\\users\\hp\\anaconda3\\envs\\vks_test\\lib\\site-packages\\tensorflow\\python\\framework\\dtypes.py:520: FutureWarning: Passing (type, 1) or '1type' as a synonym of type is deprecated; in a future version of numpy, it will be understood as (type, (1,)) / '(1,)type'.\n",
      "  _np_qint32 = np.dtype([(\"qint32\", np.int32, 1)])\n",
      "c:\\users\\hp\\anaconda3\\envs\\vks_test\\lib\\site-packages\\tensorflow\\python\\framework\\dtypes.py:525: FutureWarning: Passing (type, 1) or '1type' as a synonym of type is deprecated; in a future version of numpy, it will be understood as (type, (1,)) / '(1,)type'.\n",
      "  np_resource = np.dtype([(\"resource\", np.ubyte, 1)])\n",
      "c:\\users\\hp\\anaconda3\\envs\\vks_test\\lib\\site-packages\\tensorboard\\compat\\tensorflow_stub\\dtypes.py:541: FutureWarning: Passing (type, 1) or '1type' as a synonym of type is deprecated; in a future version of numpy, it will be understood as (type, (1,)) / '(1,)type'.\n",
      "  _np_qint8 = np.dtype([(\"qint8\", np.int8, 1)])\n",
      "c:\\users\\hp\\anaconda3\\envs\\vks_test\\lib\\site-packages\\tensorboard\\compat\\tensorflow_stub\\dtypes.py:542: FutureWarning: Passing (type, 1) or '1type' as a synonym of type is deprecated; in a future version of numpy, it will be understood as (type, (1,)) / '(1,)type'.\n",
      "  _np_quint8 = np.dtype([(\"quint8\", np.uint8, 1)])\n",
      "c:\\users\\hp\\anaconda3\\envs\\vks_test\\lib\\site-packages\\tensorboard\\compat\\tensorflow_stub\\dtypes.py:543: FutureWarning: Passing (type, 1) or '1type' as a synonym of type is deprecated; in a future version of numpy, it will be understood as (type, (1,)) / '(1,)type'.\n",
      "  _np_qint16 = np.dtype([(\"qint16\", np.int16, 1)])\n",
      "c:\\users\\hp\\anaconda3\\envs\\vks_test\\lib\\site-packages\\tensorboard\\compat\\tensorflow_stub\\dtypes.py:544: FutureWarning: Passing (type, 1) or '1type' as a synonym of type is deprecated; in a future version of numpy, it will be understood as (type, (1,)) / '(1,)type'.\n",
      "  _np_quint16 = np.dtype([(\"quint16\", np.uint16, 1)])\n",
      "c:\\users\\hp\\anaconda3\\envs\\vks_test\\lib\\site-packages\\tensorboard\\compat\\tensorflow_stub\\dtypes.py:545: FutureWarning: Passing (type, 1) or '1type' as a synonym of type is deprecated; in a future version of numpy, it will be understood as (type, (1,)) / '(1,)type'.\n",
      "  _np_qint32 = np.dtype([(\"qint32\", np.int32, 1)])\n",
      "c:\\users\\hp\\anaconda3\\envs\\vks_test\\lib\\site-packages\\tensorboard\\compat\\tensorflow_stub\\dtypes.py:550: FutureWarning: Passing (type, 1) or '1type' as a synonym of type is deprecated; in a future version of numpy, it will be understood as (type, (1,)) / '(1,)type'.\n",
      "  np_resource = np.dtype([(\"resource\", np.ubyte, 1)])\n"
     ]
    }
   ],
   "source": [
    "# Part 2 - Now let's make the ANN!\n",
    "\n",
    "# Importing the Keras libraries and packages\n",
    "import keras\n",
    "from keras.models import Sequential\n",
    "from keras.layers import Dense\n",
    "from keras.layers import LeakyReLU,PReLU,ELU\n",
    "from keras.layers import Dropout\n"
   ]
  },
  {
   "cell_type": "code",
   "execution_count": 16,
   "metadata": {},
   "outputs": [
    {
     "name": "stderr",
     "output_type": "stream",
     "text": [
      "c:\\users\\hp\\anaconda3\\envs\\vks_test\\lib\\site-packages\\ipykernel_launcher.py:5: UserWarning: Update your `Dense` call to the Keras 2 API: `Dense(activation=\"relu\", input_dim=11, units=6, kernel_initializer=\"he_uniform\")`\n",
      "  \"\"\"\n"
     ]
    },
    {
     "name": "stdout",
     "output_type": "stream",
     "text": [
      "WARNING:tensorflow:From c:\\users\\hp\\anaconda3\\envs\\vks_test\\lib\\site-packages\\tensorflow\\python\\ops\\nn_impl.py:180: add_dispatch_support.<locals>.wrapper (from tensorflow.python.ops.array_ops) is deprecated and will be removed in a future version.\n",
      "Instructions for updating:\n",
      "Use tf.where in 2.0, which has the same broadcast rule as np.where\n"
     ]
    },
    {
     "name": "stderr",
     "output_type": "stream",
     "text": [
      "c:\\users\\hp\\anaconda3\\envs\\vks_test\\lib\\site-packages\\ipykernel_launcher.py:8: UserWarning: Update your `Dense` call to the Keras 2 API: `Dense(activation=\"relu\", units=6, kernel_initializer=\"he_uniform\")`\n",
      "  \n",
      "c:\\users\\hp\\anaconda3\\envs\\vks_test\\lib\\site-packages\\ipykernel_launcher.py:10: UserWarning: Update your `Dense` call to the Keras 2 API: `Dense(activation=\"sigmoid\", units=1, kernel_initializer=\"glorot_uniform\")`\n",
      "  # Remove the CWD from sys.path while we load stuff.\n",
      "c:\\users\\hp\\anaconda3\\envs\\vks_test\\lib\\site-packages\\ipykernel_launcher.py:16: UserWarning: The `nb_epoch` argument in `fit` has been renamed `epochs`.\n",
      "  app.launch_new_instance()\n"
     ]
    },
    {
     "name": "stdout",
     "output_type": "stream",
     "text": [
      "WARNING:tensorflow:From c:\\users\\hp\\anaconda3\\envs\\vks_test\\lib\\site-packages\\keras\\backend\\tensorflow_backend.py:422: The name tf.global_variables is deprecated. Please use tf.compat.v1.global_variables instead.\n",
      "\n",
      "Train on 5359 samples, validate on 2641 samples\n",
      "Epoch 1/100\n",
      "5359/5359 [==============================] - 1s 275us/step - loss: 0.6406 - accuracy: 0.6914 - val_loss: 0.5520 - val_accuracy: 0.7948\n",
      "Epoch 2/100\n",
      "5359/5359 [==============================] - 1s 131us/step - loss: 0.5196 - accuracy: 0.7962 - val_loss: 0.5122 - val_accuracy: 0.7955\n",
      "Epoch 3/100\n",
      "5359/5359 [==============================] - 1s 140us/step - loss: 0.4931 - accuracy: 0.7960 - val_loss: 0.4914 - val_accuracy: 0.7955\n",
      "Epoch 4/100\n",
      "5359/5359 [==============================] - 1s 127us/step - loss: 0.4776 - accuracy: 0.7964 - val_loss: 0.4763 - val_accuracy: 0.7948\n",
      "Epoch 5/100\n",
      "5359/5359 [==============================] - 1s 124us/step - loss: 0.4641 - accuracy: 0.7964 - val_loss: 0.4625 - val_accuracy: 0.7944\n",
      "Epoch 6/100\n",
      "5359/5359 [==============================] - 1s 124us/step - loss: 0.4516 - accuracy: 0.7968 - val_loss: 0.4508 - val_accuracy: 0.7944\n",
      "Epoch 7/100\n",
      "5359/5359 [==============================] - 1s 137us/step - loss: 0.4407 - accuracy: 0.7972 - val_loss: 0.4415 - val_accuracy: 0.7936\n",
      "Epoch 8/100\n",
      "5359/5359 [==============================] - 1s 127us/step - loss: 0.4306 - accuracy: 0.8001 - val_loss: 0.4328 - val_accuracy: 0.7993\n",
      "Epoch 9/100\n",
      "5359/5359 [==============================] - 1s 137us/step - loss: 0.4209 - accuracy: 0.8059 - val_loss: 0.4246 - val_accuracy: 0.8042\n",
      "Epoch 10/100\n",
      "5359/5359 [==============================] - 1s 124us/step - loss: 0.4114 - accuracy: 0.8132 - val_loss: 0.4163 - val_accuracy: 0.8073\n",
      "Epoch 11/100\n",
      "5359/5359 [==============================] - 1s 136us/step - loss: 0.4019 - accuracy: 0.8175 - val_loss: 0.4074 - val_accuracy: 0.8080\n",
      "Epoch 12/100\n",
      "5359/5359 [==============================] - 1s 125us/step - loss: 0.3923 - accuracy: 0.8224 - val_loss: 0.4002 - val_accuracy: 0.8111\n",
      "Epoch 13/100\n",
      "5359/5359 [==============================] - 1s 143us/step - loss: 0.3841 - accuracy: 0.8265 - val_loss: 0.3932 - val_accuracy: 0.8118\n",
      "Epoch 14/100\n",
      "5359/5359 [==============================] - 1s 134us/step - loss: 0.3762 - accuracy: 0.8317 - val_loss: 0.3869 - val_accuracy: 0.8179\n",
      "Epoch 15/100\n",
      "5359/5359 [==============================] - 1s 138us/step - loss: 0.3696 - accuracy: 0.8373 - val_loss: 0.3820 - val_accuracy: 0.8258\n",
      "Epoch 16/100\n",
      "5359/5359 [==============================] - 1s 130us/step - loss: 0.3637 - accuracy: 0.8433 - val_loss: 0.3772 - val_accuracy: 0.8334\n",
      "Epoch 17/100\n",
      "5359/5359 [==============================] - 1s 127us/step - loss: 0.3591 - accuracy: 0.8505 - val_loss: 0.3737 - val_accuracy: 0.8364\n",
      "Epoch 18/100\n",
      "5359/5359 [==============================] - 1s 130us/step - loss: 0.3550 - accuracy: 0.8503 - val_loss: 0.3713 - val_accuracy: 0.8383\n",
      "Epoch 19/100\n",
      "5359/5359 [==============================] - 1s 132us/step - loss: 0.3518 - accuracy: 0.8524 - val_loss: 0.3692 - val_accuracy: 0.8398\n",
      "Epoch 20/100\n",
      "5359/5359 [==============================] - 1s 172us/step - loss: 0.3495 - accuracy: 0.8526 - val_loss: 0.3674 - val_accuracy: 0.8413\n",
      "Epoch 21/100\n",
      "5359/5359 [==============================] - 1s 149us/step - loss: 0.3471 - accuracy: 0.8535 - val_loss: 0.3659 - val_accuracy: 0.8448\n",
      "Epoch 22/100\n",
      "5359/5359 [==============================] - 1s 157us/step - loss: 0.3454 - accuracy: 0.8563 - val_loss: 0.3645 - val_accuracy: 0.8440\n",
      "Epoch 23/100\n",
      "5359/5359 [==============================] - 1s 155us/step - loss: 0.3437 - accuracy: 0.8565 - val_loss: 0.3638 - val_accuracy: 0.8436\n",
      "Epoch 24/100\n",
      "5359/5359 [==============================] - 1s 147us/step - loss: 0.3423 - accuracy: 0.8586 - val_loss: 0.3633 - val_accuracy: 0.8451\n",
      "Epoch 25/100\n",
      "5359/5359 [==============================] - 1s 144us/step - loss: 0.3409 - accuracy: 0.8595 - val_loss: 0.3620 - val_accuracy: 0.8470\n",
      "Epoch 26/100\n",
      "5359/5359 [==============================] - 1s 133us/step - loss: 0.3397 - accuracy: 0.8597 - val_loss: 0.3609 - val_accuracy: 0.8474\n",
      "Epoch 27/100\n",
      "5359/5359 [==============================] - 1s 141us/step - loss: 0.3386 - accuracy: 0.8595 - val_loss: 0.3607 - val_accuracy: 0.8474\n",
      "Epoch 28/100\n",
      "5359/5359 [==============================] - 1s 122us/step - loss: 0.3376 - accuracy: 0.8591 - val_loss: 0.3598 - val_accuracy: 0.8497\n",
      "Epoch 29/100\n",
      "5359/5359 [==============================] - 1s 150us/step - loss: 0.3365 - accuracy: 0.8600 - val_loss: 0.3599 - val_accuracy: 0.8489\n",
      "Epoch 30/100\n",
      "5359/5359 [==============================] - 1s 149us/step - loss: 0.3357 - accuracy: 0.8595 - val_loss: 0.3597 - val_accuracy: 0.8470\n",
      "Epoch 31/100\n",
      "5359/5359 [==============================] - 1s 121us/step - loss: 0.3348 - accuracy: 0.8617 - val_loss: 0.3601 - val_accuracy: 0.8478\n",
      "Epoch 32/100\n",
      "5359/5359 [==============================] - 1s 123us/step - loss: 0.3344 - accuracy: 0.8625 - val_loss: 0.3594 - val_accuracy: 0.8478\n",
      "Epoch 33/100\n",
      "5359/5359 [==============================] - 1s 128us/step - loss: 0.3335 - accuracy: 0.8615 - val_loss: 0.3592 - val_accuracy: 0.8501\n",
      "Epoch 34/100\n",
      "5359/5359 [==============================] - 1s 137us/step - loss: 0.3330 - accuracy: 0.8621 - val_loss: 0.3590 - val_accuracy: 0.8497\n",
      "Epoch 35/100\n",
      "5359/5359 [==============================] - 1s 158us/step - loss: 0.3323 - accuracy: 0.8608 - val_loss: 0.3589 - val_accuracy: 0.8489\n",
      "Epoch 36/100\n",
      "5359/5359 [==============================] - 1s 127us/step - loss: 0.3318 - accuracy: 0.8632 - val_loss: 0.3587 - val_accuracy: 0.8485\n",
      "Epoch 37/100\n",
      "5359/5359 [==============================] - 1s 125us/step - loss: 0.3313 - accuracy: 0.8623 - val_loss: 0.3586 - val_accuracy: 0.8482\n",
      "Epoch 38/100\n",
      "5359/5359 [==============================] - 1s 125us/step - loss: 0.3309 - accuracy: 0.8623 - val_loss: 0.3588 - val_accuracy: 0.8478\n",
      "Epoch 39/100\n",
      "5359/5359 [==============================] - 1s 148us/step - loss: 0.3306 - accuracy: 0.8621 - val_loss: 0.3586 - val_accuracy: 0.8489\n",
      "Epoch 40/100\n",
      "5359/5359 [==============================] - 1s 123us/step - loss: 0.3304 - accuracy: 0.8632 - val_loss: 0.3591 - val_accuracy: 0.8504\n",
      "Epoch 41/100\n",
      "5359/5359 [==============================] - 1s 125us/step - loss: 0.3298 - accuracy: 0.8632 - val_loss: 0.3588 - val_accuracy: 0.8466\n",
      "Epoch 42/100\n",
      "5359/5359 [==============================] - 1s 123us/step - loss: 0.3298 - accuracy: 0.8628 - val_loss: 0.3587 - val_accuracy: 0.8485\n",
      "Epoch 43/100\n",
      "5359/5359 [==============================] - 1s 133us/step - loss: 0.3295 - accuracy: 0.8612 - val_loss: 0.3589 - val_accuracy: 0.8501\n",
      "Epoch 44/100\n",
      "5359/5359 [==============================] - 1s 114us/step - loss: 0.3293 - accuracy: 0.8628 - val_loss: 0.3589 - val_accuracy: 0.8474\n",
      "Epoch 45/100\n",
      "5359/5359 [==============================] - 1s 124us/step - loss: 0.3296 - accuracy: 0.8600 - val_loss: 0.3584 - val_accuracy: 0.8519\n",
      "Epoch 46/100\n",
      "5359/5359 [==============================] - 1s 127us/step - loss: 0.3288 - accuracy: 0.8608 - val_loss: 0.3579 - val_accuracy: 0.8508\n",
      "Epoch 47/100\n",
      "5359/5359 [==============================] - 1s 120us/step - loss: 0.3287 - accuracy: 0.8610 - val_loss: 0.3583 - val_accuracy: 0.8523\n",
      "Epoch 48/100\n",
      "5359/5359 [==============================] - 1s 124us/step - loss: 0.3288 - accuracy: 0.8615 - val_loss: 0.3577 - val_accuracy: 0.8497\n",
      "Epoch 49/100\n",
      "5359/5359 [==============================] - 1s 127us/step - loss: 0.3284 - accuracy: 0.8612 - val_loss: 0.3580 - val_accuracy: 0.8512\n",
      "Epoch 50/100\n",
      "5359/5359 [==============================] - 1s 119us/step - loss: 0.3283 - accuracy: 0.8621 - val_loss: 0.3575 - val_accuracy: 0.8489\n",
      "Epoch 51/100\n",
      "5359/5359 [==============================] - 1s 128us/step - loss: 0.3281 - accuracy: 0.8621 - val_loss: 0.3583 - val_accuracy: 0.8493\n",
      "Epoch 52/100\n",
      "5359/5359 [==============================] - 1s 122us/step - loss: 0.3284 - accuracy: 0.8614 - val_loss: 0.3579 - val_accuracy: 0.8482\n",
      "Epoch 53/100\n",
      "5359/5359 [==============================] - 1s 125us/step - loss: 0.3275 - accuracy: 0.8615 - val_loss: 0.3581 - val_accuracy: 0.8504\n",
      "Epoch 54/100\n",
      "5359/5359 [==============================] - 1s 125us/step - loss: 0.3280 - accuracy: 0.8614 - val_loss: 0.3578 - val_accuracy: 0.8504\n",
      "Epoch 55/100\n",
      "5359/5359 [==============================] - 1s 122us/step - loss: 0.3273 - accuracy: 0.8625 - val_loss: 0.3581 - val_accuracy: 0.8478\n",
      "Epoch 56/100\n",
      "5359/5359 [==============================] - 1s 120us/step - loss: 0.3277 - accuracy: 0.8621 - val_loss: 0.3581 - val_accuracy: 0.8523\n",
      "Epoch 57/100\n",
      "5359/5359 [==============================] - 1s 122us/step - loss: 0.3271 - accuracy: 0.8642 - val_loss: 0.3582 - val_accuracy: 0.8482\n",
      "Epoch 58/100\n",
      "5359/5359 [==============================] - 1s 120us/step - loss: 0.3271 - accuracy: 0.8608 - val_loss: 0.3589 - val_accuracy: 0.8546\n",
      "Epoch 59/100\n",
      "5359/5359 [==============================] - 1s 123us/step - loss: 0.3273 - accuracy: 0.8615 - val_loss: 0.3575 - val_accuracy: 0.8546\n",
      "Epoch 60/100\n",
      "5359/5359 [==============================] - 1s 122us/step - loss: 0.3270 - accuracy: 0.8625 - val_loss: 0.3580 - val_accuracy: 0.8478\n",
      "Epoch 61/100\n",
      "5359/5359 [==============================] - 1s 118us/step - loss: 0.3271 - accuracy: 0.8619 - val_loss: 0.3584 - val_accuracy: 0.8542\n",
      "Epoch 62/100\n",
      "5359/5359 [==============================] - 1s 122us/step - loss: 0.3270 - accuracy: 0.8621 - val_loss: 0.3582 - val_accuracy: 0.8538\n",
      "Epoch 63/100\n",
      "5359/5359 [==============================] - 1s 121us/step - loss: 0.3269 - accuracy: 0.8621 - val_loss: 0.3577 - val_accuracy: 0.8504\n",
      "Epoch 64/100\n",
      "5359/5359 [==============================] - 1s 119us/step - loss: 0.3268 - accuracy: 0.8619 - val_loss: 0.3580 - val_accuracy: 0.8501\n",
      "Epoch 65/100\n",
      "5359/5359 [==============================] - 1s 121us/step - loss: 0.3266 - accuracy: 0.8636 - val_loss: 0.3584 - val_accuracy: 0.8493\n",
      "Epoch 66/100\n",
      "5359/5359 [==============================] - 1s 123us/step - loss: 0.3268 - accuracy: 0.8617 - val_loss: 0.3582 - val_accuracy: 0.8516\n",
      "Epoch 67/100\n",
      "5359/5359 [==============================] - 1s 123us/step - loss: 0.3265 - accuracy: 0.8630 - val_loss: 0.3579 - val_accuracy: 0.8531\n",
      "Epoch 68/100\n",
      "5359/5359 [==============================] - 1s 119us/step - loss: 0.3266 - accuracy: 0.8612 - val_loss: 0.3583 - val_accuracy: 0.8512\n",
      "Epoch 69/100\n",
      "5359/5359 [==============================] - 1s 121us/step - loss: 0.3263 - accuracy: 0.8617 - val_loss: 0.3589 - val_accuracy: 0.8504\n",
      "Epoch 70/100\n",
      "5359/5359 [==============================] - 1s 121us/step - loss: 0.3264 - accuracy: 0.8634 - val_loss: 0.3586 - val_accuracy: 0.8516\n",
      "Epoch 71/100\n",
      "5359/5359 [==============================] - 1s 121us/step - loss: 0.3265 - accuracy: 0.8621 - val_loss: 0.3588 - val_accuracy: 0.8493\n",
      "Epoch 72/100\n",
      "5359/5359 [==============================] - 1s 121us/step - loss: 0.3262 - accuracy: 0.8628 - val_loss: 0.3586 - val_accuracy: 0.8523\n",
      "Epoch 73/100\n",
      "5359/5359 [==============================] - 1s 119us/step - loss: 0.3261 - accuracy: 0.8621 - val_loss: 0.3579 - val_accuracy: 0.8516\n",
      "Epoch 74/100\n",
      "5359/5359 [==============================] - 1s 121us/step - loss: 0.3258 - accuracy: 0.8625 - val_loss: 0.3581 - val_accuracy: 0.8546\n",
      "Epoch 75/100\n",
      "5359/5359 [==============================] - 1s 125us/step - loss: 0.3264 - accuracy: 0.8649 - val_loss: 0.3586 - val_accuracy: 0.8527\n",
      "Epoch 76/100\n",
      "5359/5359 [==============================] - 1s 121us/step - loss: 0.3260 - accuracy: 0.8632 - val_loss: 0.3588 - val_accuracy: 0.8512\n",
      "Epoch 77/100\n",
      "5359/5359 [==============================] - 1s 121us/step - loss: 0.3258 - accuracy: 0.8627 - val_loss: 0.3607 - val_accuracy: 0.8519\n",
      "Epoch 78/100\n",
      "5359/5359 [==============================] - 1s 133us/step - loss: 0.3259 - accuracy: 0.8625 - val_loss: 0.3590 - val_accuracy: 0.8508\n",
      "Epoch 79/100\n",
      "5359/5359 [==============================] - 1s 122us/step - loss: 0.3257 - accuracy: 0.8625 - val_loss: 0.3596 - val_accuracy: 0.8519\n",
      "Epoch 80/100\n",
      "5359/5359 [==============================] - 1s 127us/step - loss: 0.3260 - accuracy: 0.8623 - val_loss: 0.3586 - val_accuracy: 0.8508\n",
      "Epoch 81/100\n",
      "5359/5359 [==============================] - 1s 126us/step - loss: 0.3257 - accuracy: 0.8638 - val_loss: 0.3587 - val_accuracy: 0.8504\n",
      "Epoch 82/100\n",
      "5359/5359 [==============================] - 1s 120us/step - loss: 0.3257 - accuracy: 0.8647 - val_loss: 0.3584 - val_accuracy: 0.8512\n",
      "Epoch 83/100\n",
      "5359/5359 [==============================] - 1s 127us/step - loss: 0.3258 - accuracy: 0.8630 - val_loss: 0.3588 - val_accuracy: 0.8501\n",
      "Epoch 84/100\n",
      "5359/5359 [==============================] - 1s 123us/step - loss: 0.3258 - accuracy: 0.8638 - val_loss: 0.3583 - val_accuracy: 0.8485\n",
      "Epoch 85/100\n",
      "5359/5359 [==============================] - 1s 124us/step - loss: 0.3255 - accuracy: 0.8625 - val_loss: 0.3608 - val_accuracy: 0.8527\n",
      "Epoch 86/100\n",
      "5359/5359 [==============================] - 1s 121us/step - loss: 0.3257 - accuracy: 0.8623 - val_loss: 0.3582 - val_accuracy: 0.8512\n",
      "Epoch 87/100\n",
      "5359/5359 [==============================] - 1s 131us/step - loss: 0.3255 - accuracy: 0.8632 - val_loss: 0.3579 - val_accuracy: 0.8497\n",
      "Epoch 88/100\n",
      "5359/5359 [==============================] - 1s 137us/step - loss: 0.3256 - accuracy: 0.8628 - val_loss: 0.3580 - val_accuracy: 0.8512\n",
      "Epoch 89/100\n",
      "5359/5359 [==============================] - 1s 131us/step - loss: 0.3254 - accuracy: 0.8634 - val_loss: 0.3586 - val_accuracy: 0.8523\n",
      "Epoch 90/100\n",
      "5359/5359 [==============================] - 1s 125us/step - loss: 0.3254 - accuracy: 0.8623 - val_loss: 0.3585 - val_accuracy: 0.8504\n",
      "Epoch 91/100\n",
      "5359/5359 [==============================] - 1s 128us/step - loss: 0.3253 - accuracy: 0.8628 - val_loss: 0.3582 - val_accuracy: 0.8512\n",
      "Epoch 92/100\n",
      "5359/5359 [==============================] - 1s 124us/step - loss: 0.3252 - accuracy: 0.8642 - val_loss: 0.3591 - val_accuracy: 0.8523\n",
      "Epoch 93/100\n",
      "5359/5359 [==============================] - 1s 125us/step - loss: 0.3252 - accuracy: 0.8638 - val_loss: 0.3590 - val_accuracy: 0.8497\n",
      "Epoch 94/100\n",
      "5359/5359 [==============================] - 1s 123us/step - loss: 0.3250 - accuracy: 0.8630 - val_loss: 0.3578 - val_accuracy: 0.8489\n",
      "Epoch 95/100\n",
      "5359/5359 [==============================] - 1s 118us/step - loss: 0.3253 - accuracy: 0.8625 - val_loss: 0.3584 - val_accuracy: 0.8497\n",
      "Epoch 96/100\n",
      "5359/5359 [==============================] - 1s 118us/step - loss: 0.3250 - accuracy: 0.8647 - val_loss: 0.3583 - val_accuracy: 0.8501\n",
      "Epoch 97/100\n",
      "5359/5359 [==============================] - 1s 120us/step - loss: 0.3252 - accuracy: 0.8628 - val_loss: 0.3585 - val_accuracy: 0.8485\n",
      "Epoch 98/100\n",
      "5359/5359 [==============================] - 1s 121us/step - loss: 0.3250 - accuracy: 0.8647 - val_loss: 0.3585 - val_accuracy: 0.8489\n",
      "Epoch 99/100\n",
      "5359/5359 [==============================] - 1s 122us/step - loss: 0.3243 - accuracy: 0.8647 - val_loss: 0.3605 - val_accuracy: 0.8516\n",
      "Epoch 100/100\n",
      "5359/5359 [==============================] - 1s 121us/step - loss: 0.3250 - accuracy: 0.8634 - val_loss: 0.3582 - val_accuracy: 0.8508\n"
     ]
    }
   ],
   "source": [
    "# Initialising the ANN\n",
    "classifier = Sequential()\n",
    "\n",
    "# Adding the input layer and the first hidden layer\n",
    "classifier.add(Dense(output_dim = 6, init = 'he_uniform',activation='relu',input_dim = 11))\n",
    "\n",
    "# Adding the second hidden layer\n",
    "classifier.add(Dense(output_dim = 6, init = 'he_uniform',activation='relu'))\n",
    "# Adding the output layer\n",
    "classifier.add(Dense(output_dim = 1, init = 'glorot_uniform', activation = 'sigmoid'))\n",
    "\n",
    "# Compiling the ANN\n",
    "classifier.compile(optimizer = 'Adamax', loss = 'binary_crossentropy', metrics = ['accuracy'])\n",
    "\n",
    "# Fitting the ANN to the Training set\n",
    "model_history=classifier.fit(X_train, y_train,validation_split=0.33, batch_size = 10, nb_epoch = 100)\n"
   ]
  },
  {
   "cell_type": "code",
   "execution_count": 20,
   "metadata": {},
   "outputs": [
    {
     "name": "stdout",
     "output_type": "stream",
     "text": [
      "dict_keys(['val_loss', 'val_accuracy', 'loss', 'accuracy'])\n"
     ]
    },
    {
     "data": {
      "image/png": "[encoded data removed]",
      "text/plain": [
       "<Figure size 432x288 with 1 Axes>"
      ]
     },
     "metadata": {
      "needs_background": "light"
     },
     "output_type": "display_data"
    },
    {
     "data": {
      "image/png": "[encoded data removed]",
      "text/plain": [
       "<Figure size 432x288 with 1 Axes>"
      ]
     },
     "metadata": {
      "needs_background": "light"
     },
     "output_type": "display_data"
    }
   ],
   "source": [
    "#list all data in history\n",
    "\n",
    "print(model_history.history.keys())\n",
    "# summarize history for accuracy\n",
    "plt.plot(model_history.history['accuracy'])\n",
    "plt.plot(model_history.history['val_accuracy'])\n",
    "plt.title('model accuracy')\n",
    "plt.ylabel('accuracy')\n",
    "plt.xlabel('epoch')\n",
    "plt.legend(['train', 'test'], loc='upper left')\n",
    "plt.show()\n",
    "\n",
    "# summarize history for loss\n",
    "plt.plot(model_history.history['loss'])\n",
    "plt.plot(model_history.history['val_loss'])\n",
    "plt.title('model loss')\n",
    "plt.ylabel('loss')\n",
    "plt.xlabel('epoch')\n",
    "plt.legend(['train', 'test'], loc='upper left')\n",
    "plt.show()\n"
   ]
  },
  {
   "cell_type": "code",
   "execution_count": 22,
   "metadata": {},
   "outputs": [],
   "source": [
    "#Part 3 - Making the predictions and evaluating the model\n",
    "\n",
    "# Predicting the Test set results\n",
    "y_pred = classifier.predict(X_test)\n",
    "y_pred = (y_pred > 0.5)"
   ]
  },
  {
   "cell_type": "code",
   "execution_count": 24,
   "metadata": {},
   "outputs": [
    {
     "data": {
      "text/plain": [
       "array([[1511,   84],\n",
       "       [ 197,  208]], dtype=int64)"
      ]
     },
     "execution_count": 24,
     "metadata": {},
     "output_type": "execute_result"
    }
   ],
   "source": [
    "# Making the Confusion Matrix\n",
    "from sklearn.metrics import confusion_matrix\n",
    "cm = confusion_matrix(y_test, y_pred)\n",
    "cm"
   ]
  },
  {
   "cell_type": "code",
   "execution_count": 26,
   "metadata": {},
   "outputs": [
    {
     "data": {
      "text/plain": [
       "0.8595"
      ]
     },
     "execution_count": 26,
     "metadata": {},
     "output_type": "execute_result"
    }
   ],
   "source": [
    "# Calculate the Accuracy\n",
    "from sklearn.metrics import accuracy_score\n",
    "score=accuracy_score(y_pred,y_test)\n",
    "score"
   ]
  },
  {
   "cell_type": "code",
   "execution_count": 31,
   "metadata": {},
   "outputs": [],
   "source": [
    "## Perform Hyperparameter Optimization\n",
    "\n",
    "from keras.wrappers.scikit_learn import KerasClassifier\n",
    "from sklearn.model_selection import GridSearchCV\n",
    "from keras.models import Sequential\n",
    "from keras.layers import Dense, Activation, Embedding, Flatten, LeakyReLU, BatchNormalization, Dropout\n",
    "from keras.activations import relu, sigmoid\n",
    "\n"
   ]
  },
  {
   "cell_type": "code",
   "execution_count": 32,
   "metadata": {},
   "outputs": [],
   "source": [
    "def create_model(layers, activation):\n",
    "    model = Sequential()\n",
    "    for i, nodes in enumerate(layers):\n",
    "        if i==0:\n",
    "            model.add(Dense(nodes,input_dim=X_train.shape[1]))\n",
    "            model.add(Activation(activation))\n",
    "            model.add(Dropout(0.3))\n",
    "        else:\n",
    "            model.add(Dense(nodes))\n",
    "            model.add(Activation(activation))\n",
    "            model.add(Dropout(0.3))\n",
    "            \n",
    "    model.add(Dense(units = 1, kernel_initializer= 'glorot_uniform', activation = 'sigmoid')) # Note: no activation beyond this point\n",
    "    \n",
    "    model.compile(optimizer='adam', loss='binary_crossentropy',metrics=['accuracy'])\n",
    "    return model\n",
    "    \n",
    "model = KerasClassifier(build_fn=create_model, verbose=0)\n",
    "\n",
    "\n",
    "layers = [[20], [40, 20], [45, 30, 15]]\n",
    "activations = ['sigmoid', 'relu']\n",
    "param_grid = dict(layers=layers, activation=activations, batch_size = [128, 256], epochs=[30])\n",
    "grid = GridSearchCV(estimator=model, param_grid=param_grid,cv=5)\n"
   ]
  },
  {
   "cell_type": "code",
   "execution_count": 33,
   "metadata": {},
   "outputs": [
    {
     "data": {
      "text/plain": [
       "GridSearchCV(cv=5,\n",
       "             estimator=<keras.wrappers.scikit_learn.KerasClassifier object at 0x00000236C9FEBA58>,\n",
       "             param_grid={'activation': ['sigmoid', 'relu'],\n",
       "                         'batch_size': [128, 256], 'epochs': [30],\n",
       "                         'layers': [[20], [40, 20], [45, 30, 15]]})"
      ]
     },
     "execution_count": 33,
     "metadata": {},
     "output_type": "execute_result"
    }
   ],
   "source": [
    "grid"
   ]
  },
  {
   "cell_type": "code",
   "execution_count": 37,
   "metadata": {},
   "outputs": [],
   "source": [
    "#grid_result = grid.fit(X_train, y_train)\n",
    "y_pred = classifier.predict(X_test)\n",
    "y_pred = (y_pred > 0.5)\n"
   ]
  },
  {
   "cell_type": "code",
   "execution_count": 36,
   "metadata": {},
   "outputs": [],
   "source": [
    "cm = confusion_matrix(y_pred,y_test)\n"
   ]
  },
  {
   "cell_type": "code",
   "execution_count": 38,
   "metadata": {},
   "outputs": [],
   "source": [
    "score=accuracy_score(y_pred,y_test)"
   ]
  },
  {
   "cell_type": "code",
   "execution_count": null,
   "metadata": {},
   "outputs": [],
   "source": []
  },
  {
   "cell_type": "code",
   "execution_count": null,
   "metadata": {},
   "outputs": [],
   "source": []
  },
  {
   "cell_type": "code",
   "execution_count": null,
   "metadata": {},
   "outputs": [],
   "source": []
  },
  {
   "cell_type": "code",
   "execution_count": null,
   "metadata": {},
   "outputs": [],
   "source": []
  },
  {
   "cell_type": "code",
   "execution_count": null,
   "metadata": {},
   "outputs": [],
   "source": []
  },
  {
   "cell_type": "code",
   "execution_count": null,
   "metadata": {},
   "outputs": [],
   "source": []
  }
 ],
 "metadata": {
  "kernelspec": {
   "display_name": "Python 3",
   "language": "python",
   "name": "python3"
  },
  "language_info": {
   "codemirror_mode": {
    "name": "ipython",
    "version": 3
   },
   "file_extension": ".py",
   "mimetype": "text/x-python",
   "name": "python",
   "nbconvert_exporter": "python",
   "pygments_lexer": "ipython3",
   "version": "3.6.9"
  }
 },
 "nbformat": 4,
 "nbformat_minor": 4
}
